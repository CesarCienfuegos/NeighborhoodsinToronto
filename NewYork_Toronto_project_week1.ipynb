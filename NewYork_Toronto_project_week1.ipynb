
Market strategy of an online food-delivery company in the cities of New York and Toronto
Final Report
0. The changing market for food delivery
The business of delivering restaurants meals to the home is undergoing rapid change as new online platforms race to capture markets and customers across over the world.

Worldwide, the market for food delivery stands at €83 billion, or 1 % of the total food market, and has already matured in most countries, with an overall annual growth rate estimated at just 3.5 % for the next five years.

The food-delivery market has the potential for robust growth
Total addressable classic food-delivery market, %

By far, the most common form of delivery is the traditional model. However, as in so many other sectors, the rise of digital technology is reshaping the market.

The opportunity for new online-delivery is to extend food delivery to a new group of restaurants and customers, especially in cities like New York and Toronto. So stakeholders of our company wants to know more information about neighbourhoods in this cities.

1. Business problem
Our online-delivery company wants to put into market for the next years, new services and products in the cities of New York and Toronto. The company needs to plan and prior where to begin, in New York or Toronto. The strategy in the first stage is to study both cities. So the company has decided to analyze and determine some parameters of this cities, in order to take a decision. This market study must analyze neighbourhoods, total number, geolocation, density, and so on.

This information will let stakeholders of our company to know more about necessary resources, and also will let to take the right decision.

2. Data
At initial stage the company doesn't have any kind of information so an exploratory study is needed. The main source consulted is the web.

To solve the problem, data will be record, prepared and processed. Then some metrics will be calculated to compare the cities of New York and Toronto.
2.1. New York
Neighborhood in New York City has a total of 5 boroughs and 306 neighborhoods. In order to segment the neighborhoods and explore them, its needed a dataset that contains the 5 boroughs and the neighborhoods that exist in each borough as well as the the latitude and longitude coordinates of each neighborhood.

We get the dataset from this web link in Geojson format: https://geo.nyu.edu/catalog/nyu_2451_34572

The file name is: nyu-2451-34572-geojson.json
2.2. Toronto
Toronto city has 289 neighbourhoods, so is similar to New York.

We get the dataset from Wikipedia at this web link: (https://en.wikipedia.org/wiki/List_of_postal_codes_of_Canada:_M)
